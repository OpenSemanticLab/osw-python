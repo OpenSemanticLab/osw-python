{
  "cells": [
    {
      "cell_type": "code",
      "execution_count": null,
      "metadata": {
        "trusted": true
      },
      "outputs": [],
      "source": [
        "import sys\n",
        "\n",
        "if sys.platform == 'emscripten':\n",
        "    # running in Pyodide or other Emscripten based build\n",
        "    import micropip\n",
        "    await micropip.install(\"anywidget\")"
      ]
    },
    {
      "cell_type": "code",
      "execution_count": 7,
      "metadata": {},
      "outputs": [
        {
          "data": {
            "application/vnd.jupyter.widget-view+json": {
              "model_id": "764be9ce18384036a98c7be391189d69",
              "version_major": 2,
              "version_minor": 1
            },
            "text/plain": [
              "JsonEditorWidget(options={'schema': {'title': 'AnyWidget Editor Test', 'required': ['test'], 'properties': {'t…"
            ]
          },
          "execution_count": 7,
          "metadata": {},
          "output_type": "execute_result"
        },
        {
          "name": "stdout",
          "output_type": "stream",
          "text": [
            "handle_change {'test': ''}\n",
            "handle_change {'test': 'test value'}\n"
          ]
        }
      ],
      "source": [
        "import os\n",
        "from pathlib import Path\n",
        "import anywidget\n",
        "import traitlets\n",
        "import ipywidgets\n",
        "from osw.ui.anywidget.jsoneditor import JsonEditorWidget\n",
        "\n",
        "my_schema = {\n",
        "    \"title\": \"AnyWidget Editor Test\",\n",
        "    \"required\": [\"test\"],\n",
        "    \"properties\": {\"test\": {\"type\": \"string\"}}\n",
        "}\n",
        "editor = JsonEditorWidget(options = {\"schema\": my_schema})\n",
        "\n",
        "# log the value of `my_value` any time it changes\n",
        "def handle_change(change):\n",
        "    \"\"\"Prints new value\"\"\"\n",
        "    print(\"handle_change\", change.new)\n",
        "editor.observe(handle_change, \"value\")\n",
        "\n",
        "editor"
      ]
    }
  ],
  "metadata": {
    "kernelspec": {
      "display_name": ".venv",
      "language": "python",
      "name": "python3"
    },
    "language_info": {
      "codemirror_mode": {
        "name": "ipython",
        "version": 3
      },
      "file_extension": ".py",
      "mimetype": "text/x-python",
      "name": "python",
      "nbconvert_exporter": "python",
      "pygments_lexer": "ipython3",
      "version": "3.11.9"
    }
  },
  "nbformat": 4,
  "nbformat_minor": 4
}
